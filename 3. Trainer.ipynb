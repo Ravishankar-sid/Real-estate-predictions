{
 "cells": [
  {
   "cell_type": "code",
   "execution_count": 1,
   "id": "ordered-orbit",
   "metadata": {
    "ExecuteTime": {
     "end_time": "2021-03-22T11:46:56.236299Z",
     "start_time": "2021-03-22T11:46:55.683948Z"
    }
   },
   "outputs": [],
   "source": [
    "from sklearn.linear_model import LinearRegression\n",
    "from sklearn.metrics import r2_score, mean_squared_error\n",
    "from sklearn.preprocessing import StandardScaler\n",
    "\n",
    "import pandas as pd\n",
    "import numpy as np\n",
    "import os\n",
    "import time"
   ]
  },
  {
   "cell_type": "code",
   "execution_count": 2,
   "id": "automatic-spring",
   "metadata": {
    "ExecuteTime": {
     "end_time": "2021-03-22T11:46:56.239465Z",
     "start_time": "2021-03-22T11:46:56.237719Z"
    }
   },
   "outputs": [],
   "source": [
    "YEAR = \"2017\"\n",
    "TYPE = \"house\"\n",
    "USE_LOG = True\n",
    "USE_SS = True"
   ]
  },
  {
   "cell_type": "markdown",
   "id": "cardiovascular-majority",
   "metadata": {},
   "source": [
    "# Import dataframe"
   ]
  },
  {
   "cell_type": "code",
   "execution_count": 3,
   "id": "metropolitan-foster",
   "metadata": {
    "ExecuteTime": {
     "end_time": "2021-03-22T11:46:56.836367Z",
     "start_time": "2021-03-22T11:46:56.240523Z"
    }
   },
   "outputs": [],
   "source": [
    "df = pd.read_csv(f\"real_estate/real_estate_{TYPE}{YEAR}.csv\")"
   ]
  },
  {
   "cell_type": "code",
   "execution_count": 4,
   "id": "compressed-factor",
   "metadata": {
    "ExecuteTime": {
     "end_time": "2021-03-22T11:46:56.840540Z",
     "start_time": "2021-03-22T11:46:56.837371Z"
    }
   },
   "outputs": [],
   "source": [
    "def split_train_data(df):\n",
    "    df_train_x = df[~df[\"city\"].isin([\"saint nabord\", \"clermont ferrand\", \"la grande\"])]\n",
    "    df_train_x.drop(columns=[\"city\"], inplace=True)\n",
    "    df_train_y = df_train_x[[\"value_euros\"]]\n",
    "    df_train_x.drop(columns=\"value_euros\", inplace=True)\n",
    "    return df_train_x, df_train_y\n",
    "\n",
    "def split_test_data(df):\n",
    "    df_test_x = df[df[\"city\"].isin([\"saint nabord\", \"clermont ferrand\", \"la grande\"])]\n",
    "    df_test_x.drop(columns=[\"city\"], inplace=True)\n",
    "    df_test_y = df_test_x[[\"value_euros\"]]\n",
    "    df_test_x.drop(columns=\"value_euros\", inplace=True)\n",
    "    return df_test_x, df_test_y"
   ]
  },
  {
   "cell_type": "code",
   "execution_count": 5,
   "id": "attractive-courage",
   "metadata": {
    "ExecuteTime": {
     "end_time": "2021-03-22T11:46:56.915625Z",
     "start_time": "2021-03-22T11:46:56.841562Z"
    }
   },
   "outputs": [
    {
     "name": "stderr",
     "output_type": "stream",
     "text": [
      "/home/alexandre/.virtualenvs/opencv_cuda/lib/python3.8/site-packages/pandas/core/frame.py:4305: SettingWithCopyWarning: \n",
      "A value is trying to be set on a copy of a slice from a DataFrame\n",
      "\n",
      "See the caveats in the documentation: https://pandas.pydata.org/pandas-docs/stable/user_guide/indexing.html#returning-a-view-versus-a-copy\n",
      "  return super().drop(\n"
     ]
    }
   ],
   "source": [
    "df_train_x, df_train_y = split_train_data(df)\n",
    "df_test_x, df_test_y = split_test_data(df)"
   ]
  },
  {
   "cell_type": "code",
   "execution_count": 6,
   "id": "remarkable-spectrum",
   "metadata": {
    "ExecuteTime": {
     "end_time": "2021-03-22T11:46:56.920318Z",
     "start_time": "2021-03-22T11:46:56.916660Z"
    }
   },
   "outputs": [],
   "source": [
    "if USE_LOG:\n",
    "    df_train_y = np.log(df_train_y)\n",
    "    df_test_y = np.log(df_test_y)"
   ]
  },
  {
   "cell_type": "code",
   "execution_count": 7,
   "id": "economic-sacrifice",
   "metadata": {
    "ExecuteTime": {
     "end_time": "2021-03-22T11:46:57.016472Z",
     "start_time": "2021-03-22T11:46:56.921852Z"
    }
   },
   "outputs": [],
   "source": [
    "if USE_SS:\n",
    "    ss = StandardScaler()\n",
    "    ss.fit(df_train_x)\n",
    "\n",
    "def normalize(x):\n",
    "    if USE_SS:\n",
    "        return ss.transform(x)\n",
    "    else:\n",
    "        return x"
   ]
  },
  {
   "cell_type": "markdown",
   "id": "brilliant-bookmark",
   "metadata": {},
   "source": [
    "# Train model"
   ]
  },
  {
   "cell_type": "code",
   "execution_count": 8,
   "id": "careful-performer",
   "metadata": {
    "ExecuteTime": {
     "end_time": "2021-03-22T11:46:57.322096Z",
     "start_time": "2021-03-22T11:46:57.017624Z"
    }
   },
   "outputs": [],
   "source": [
    "lr = LinearRegression()\n",
    "lr.fit(normalize(df_train_x), df_train_y);"
   ]
  },
  {
   "cell_type": "code",
   "execution_count": 9,
   "id": "experienced-hepatitis",
   "metadata": {
    "ExecuteTime": {
     "end_time": "2021-03-22T11:46:57.329086Z",
     "start_time": "2021-03-22T11:46:57.323217Z"
    }
   },
   "outputs": [],
   "source": [
    "df_test_z = lr.predict(normalize(df_test_x))"
   ]
  },
  {
   "cell_type": "code",
   "execution_count": 10,
   "id": "interracial-while",
   "metadata": {
    "ExecuteTime": {
     "end_time": "2021-03-22T11:46:57.358176Z",
     "start_time": "2021-03-22T11:46:57.330569Z"
    }
   },
   "outputs": [
    {
     "name": "stdout",
     "output_type": "stream",
     "text": [
      "0.08577256435244662\n"
     ]
    }
   ],
   "source": [
    "r2score = r2_score(df_test_y, df_test_z)\n",
    "print(r2score)"
   ]
  },
  {
   "cell_type": "code",
   "execution_count": 11,
   "id": "thermal-armstrong",
   "metadata": {
    "ExecuteTime": {
     "end_time": "2021-03-22T11:46:57.383020Z",
     "start_time": "2021-03-22T11:46:57.359890Z"
    }
   },
   "outputs": [
    {
     "name": "stdout",
     "output_type": "stream",
     "text": [
      "0.4348038274014522\n"
     ]
    }
   ],
   "source": [
    "mse = mean_squared_error(df_test_y, df_test_z, squared=False)\n",
    "print(mse)"
   ]
  },
  {
   "cell_type": "markdown",
   "id": "reported-musical",
   "metadata": {},
   "source": [
    "# Export results"
   ]
  },
  {
   "cell_type": "code",
   "execution_count": 12,
   "id": "involved-editing",
   "metadata": {
    "ExecuteTime": {
     "end_time": "2021-03-22T11:46:57.396138Z",
     "start_time": "2021-03-22T11:46:57.384525Z"
    }
   },
   "outputs": [],
   "source": [
    "if not os.path.exists(\"results\"):\n",
    "    os.mkdir(\"results\")"
   ]
  },
  {
   "cell_type": "code",
   "execution_count": 23,
   "id": "departmental-deviation",
   "metadata": {
    "ExecuteTime": {
     "end_time": "2021-03-22T11:48:31.077194Z",
     "start_time": "2021-03-22T11:48:31.073344Z"
    }
   },
   "outputs": [],
   "source": [
    "with open(f\"results/{YEAR}_{TYPE}_{time.time()}.txt\", \"w\") as f:\n",
    "    f.write(f\"USE_LOG\\t{USE_LOG}\\n\")\n",
    "    f.write(f\"USE_SS\\t{USE_SS}\\n\")\n",
    "    f.write(f\"COLUMNS\\t{df_train_x.columns.values}\\n\")\n",
    "    f.write(f\"COEFS\\t{lr.coef_[0]}\\n\")\n",
    "    f.write(f\"INTERCEPT\\t{lr.intercept_[0]}\\n\")\n",
    "    f.write(f\"R2\\t{r2score}\\n\")\n",
    "    f.write(f\"MSE\\t{mse}\\n\")"
   ]
  }
 ],
 "metadata": {
  "kernelspec": {
   "display_name": "myenv",
   "language": "python",
   "name": "myenv"
  },
  "language_info": {
   "codemirror_mode": {
    "name": "ipython",
    "version": 3
   },
   "file_extension": ".py",
   "mimetype": "text/x-python",
   "name": "python",
   "nbconvert_exporter": "python",
   "pygments_lexer": "ipython3",
   "version": "3.8.5"
  }
 },
 "nbformat": 4,
 "nbformat_minor": 5
}
