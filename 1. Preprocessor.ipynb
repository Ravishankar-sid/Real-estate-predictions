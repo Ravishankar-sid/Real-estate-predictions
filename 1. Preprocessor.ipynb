{
 "cells": [
  {
   "cell_type": "code",
   "execution_count": 1,
   "id": "productive-sport",
   "metadata": {
    "ExecuteTime": {
     "end_time": "2021-03-22T11:40:25.289204Z",
     "start_time": "2021-03-22T11:40:25.078118Z"
    }
   },
   "outputs": [],
   "source": [
    "import pandas as pd\n",
    "import os"
   ]
  },
  {
   "cell_type": "code",
   "execution_count": 2,
   "id": "unique-pursuit",
   "metadata": {
    "ExecuteTime": {
     "end_time": "2021-03-22T11:40:25.292159Z",
     "start_time": "2021-03-22T11:40:25.290574Z"
    }
   },
   "outputs": [],
   "source": [
    "YEAR = \"2020\"\n",
    "VERBOSE = True"
   ]
  },
  {
   "cell_type": "code",
   "execution_count": 3,
   "id": "assisted-mercy",
   "metadata": {
    "ExecuteTime": {
     "end_time": "2021-03-22T11:40:25.295262Z",
     "start_time": "2021-03-22T11:40:25.293142Z"
    }
   },
   "outputs": [],
   "source": [
    "COLUMNS_TRANSLATION = {\n",
    "    \"valeur_fonciere\": \"value_euros\",\n",
    "    \"id_parcelle\": \"id_land\",\n",
    "    \"code_postal\": \"zip_code\",\n",
    "    \"nom_commune\": \"city\",\n",
    "    \"type_local\": \"property_type\",\n",
    "    \"adresse_numero\": \"address_number\",\n",
    "    \"nature_mutation\": \"transaction_type\",\n",
    "    \"nature_culture\": \"land_type\", \n",
    "    \"surface_reelle_bati\": \"built_surface\",\n",
    "    \"surface_terrain\": \"land_size\",\n",
    "    \"nombre_pieces_principales\": \"rooms_number\",  \n",
    "    \"longitude\": \"longitude\",\n",
    "    \"latitude\": \"latitude\"\n",
    "}"
   ]
  },
  {
   "cell_type": "code",
   "execution_count": 4,
   "id": "understood-salvation",
   "metadata": {
    "ExecuteTime": {
     "end_time": "2021-03-22T11:40:25.297795Z",
     "start_time": "2021-03-22T11:40:25.296130Z"
    }
   },
   "outputs": [],
   "source": [
    "def print_verbose(x):\n",
    "    if VERBOSE:\n",
    "        print(x)"
   ]
  },
  {
   "cell_type": "markdown",
   "id": "frank-manner",
   "metadata": {},
   "source": [
    "# Import dataset and rename columns to keep"
   ]
  },
  {
   "cell_type": "code",
   "execution_count": 5,
   "id": "graduate-floating",
   "metadata": {
    "ExecuteTime": {
     "end_time": "2021-03-22T11:40:27.984694Z",
     "start_time": "2021-03-22T11:40:25.298657Z"
    }
   },
   "outputs": [
    {
     "name": "stderr",
     "output_type": "stream",
     "text": [
      "/home/alexandre/.virtualenvs/opencv_cuda/lib/python3.8/site-packages/IPython/core/interactiveshell.py:3146: DtypeWarning: Columns (10,12,17,18,20,22,35,36) have mixed types.Specify dtype option on import or set low_memory=False.\n",
      "  has_raised = await self.run_ast_nodes(code_ast.body, cell_name,\n"
     ]
    }
   ],
   "source": [
    "df = pd.read_csv(f\"full/full_{YEAR}.csv\")\n",
    "df = df[COLUMNS_TRANSLATION.keys()]\n",
    "df = df.rename(columns=COLUMNS_TRANSLATION)"
   ]
  },
  {
   "cell_type": "code",
   "execution_count": 6,
   "id": "grateful-wedding",
   "metadata": {
    "ExecuteTime": {
     "end_time": "2021-03-22T11:40:27.989508Z",
     "start_time": "2021-03-22T11:40:27.985794Z"
    }
   },
   "outputs": [
    {
     "name": "stdout",
     "output_type": "stream",
     "text": [
      "value_euros         float64\n",
      "id_land              object\n",
      "zip_code            float64\n",
      "city                 object\n",
      "property_type        object\n",
      "address_number      float64\n",
      "transaction_type     object\n",
      "land_type            object\n",
      "built_surface       float64\n",
      "land_size           float64\n",
      "rooms_number        float64\n",
      "longitude           float64\n",
      "latitude            float64\n",
      "dtype: object\n",
      "(827105, 13)\n"
     ]
    }
   ],
   "source": [
    "print_verbose(df.dtypes)\n",
    "print_verbose(df.shape)"
   ]
  },
  {
   "cell_type": "markdown",
   "id": "dense-frank",
   "metadata": {},
   "source": [
    "# Drop NA"
   ]
  },
  {
   "cell_type": "code",
   "execution_count": 7,
   "id": "spare-emergency",
   "metadata": {
    "ExecuteTime": {
     "end_time": "2021-03-22T11:40:28.061720Z",
     "start_time": "2021-03-22T11:40:27.992163Z"
    }
   },
   "outputs": [],
   "source": [
    "df = df.dropna(subset=[\"zip_code\", \"value_euros\", \"longitude\", \"latitude\"])"
   ]
  },
  {
   "cell_type": "markdown",
   "id": "direct-owner",
   "metadata": {},
   "source": [
    "# Deal with locks"
   ]
  },
  {
   "cell_type": "markdown",
   "id": "dated-beach",
   "metadata": {},
   "source": [
    "## 1. Transaction type"
   ]
  },
  {
   "cell_type": "code",
   "execution_count": 8,
   "id": "threaded-malaysia",
   "metadata": {
    "ExecuteTime": {
     "end_time": "2021-03-22T11:40:28.113786Z",
     "start_time": "2021-03-22T11:40:28.063134Z"
    }
   },
   "outputs": [
    {
     "name": "stdout",
     "output_type": "stream",
     "text": [
      "Vente                                 711222\n",
      "Vente en l'état futur d'achèvement     44198\n",
      "Echange                                 5235\n",
      "Vente terrain à bâtir                   1887\n",
      "Adjudication                             443\n",
      "Expropriation                              5\n",
      "Name: transaction_type, dtype: int64\n"
     ]
    }
   ],
   "source": [
    "print_verbose(df[\"transaction_type\"].value_counts(dropna=False))"
   ]
  },
  {
   "cell_type": "code",
   "execution_count": 9,
   "id": "fantastic-kernel",
   "metadata": {
    "ExecuteTime": {
     "end_time": "2021-03-22T11:40:28.235664Z",
     "start_time": "2021-03-22T11:40:28.115066Z"
    }
   },
   "outputs": [],
   "source": [
    "df[\"transaction_type\"] = df[\"transaction_type\"].replace({\n",
    "    \"Vente\": \"house_or_flat\",\n",
    "    \"Vente terrain à bâtir\": \"other\",\n",
    "})\n",
    "df = df[df[\"transaction_type\"].isin([\"house_or_flat\", \"other\"])]"
   ]
  },
  {
   "cell_type": "code",
   "execution_count": 10,
   "id": "statistical-conjunction",
   "metadata": {
    "ExecuteTime": {
     "end_time": "2021-03-22T11:40:28.276750Z",
     "start_time": "2021-03-22T11:40:28.236715Z"
    }
   },
   "outputs": [
    {
     "name": "stdout",
     "output_type": "stream",
     "text": [
      "house_or_flat    711222\n",
      "other              1887\n",
      "Name: transaction_type, dtype: int64\n"
     ]
    }
   ],
   "source": [
    "print_verbose(df[\"transaction_type\"].value_counts(dropna=False))"
   ]
  },
  {
   "cell_type": "markdown",
   "id": "wooden-float",
   "metadata": {},
   "source": [
    "## 2. Property type"
   ]
  },
  {
   "cell_type": "code",
   "execution_count": 11,
   "id": "minor-check",
   "metadata": {
    "ExecuteTime": {
     "end_time": "2021-03-22T11:40:28.323157Z",
     "start_time": "2021-03-22T11:40:28.277687Z"
    }
   },
   "outputs": [
    {
     "name": "stdout",
     "output_type": "stream",
     "text": [
      "NaN                                         264803\n",
      "Maison                                      170325\n",
      "Appartement                                 145716\n",
      "Dépendance                                  104044\n",
      "Local industriel. commercial ou assimilé     28221\n",
      "Name: property_type, dtype: int64\n"
     ]
    }
   ],
   "source": [
    "print_verbose(df[\"property_type\"].value_counts(dropna=False))"
   ]
  },
  {
   "cell_type": "code",
   "execution_count": 12,
   "id": "living-newspaper",
   "metadata": {
    "ExecuteTime": {
     "end_time": "2021-03-22T11:40:28.452498Z",
     "start_time": "2021-03-22T11:40:28.324065Z"
    }
   },
   "outputs": [],
   "source": [
    "df[\"property_type\"] = df[\"property_type\"].replace({\n",
    "    \"Maison\": \"house\",\n",
    "    \"Appartement\": \"flat\"\n",
    "})\n",
    "df = df[(df[\"property_type\"].isin([\"house\", \"flat\"])) |\n",
    "        (df[\"property_type\"].isna())]"
   ]
  },
  {
   "cell_type": "code",
   "execution_count": 13,
   "id": "violent-composition",
   "metadata": {
    "ExecuteTime": {
     "end_time": "2021-03-22T11:40:28.485923Z",
     "start_time": "2021-03-22T11:40:28.453602Z"
    }
   },
   "outputs": [
    {
     "name": "stdout",
     "output_type": "stream",
     "text": [
      "NaN      264803\n",
      "house    170325\n",
      "flat     145716\n",
      "Name: property_type, dtype: int64\n"
     ]
    }
   ],
   "source": [
    "print_verbose(df[\"property_type\"].value_counts(dropna=False))"
   ]
  },
  {
   "cell_type": "markdown",
   "id": "ceramic-newcastle",
   "metadata": {},
   "source": [
    "## 3. Land type"
   ]
  },
  {
   "cell_type": "code",
   "execution_count": 14,
   "id": "quarterly-agreement",
   "metadata": {
    "ExecuteTime": {
     "end_time": "2021-03-22T11:40:28.524620Z",
     "start_time": "2021-03-22T11:40:28.486906Z"
    }
   },
   "outputs": [
    {
     "name": "stdout",
     "output_type": "stream",
     "text": [
      "sols                   224598\n",
      "NaN                    121917\n",
      "terres                  65585\n",
      "prés                    33173\n",
      "jardins                 28514\n",
      "terrains a bâtir        20920\n",
      "taillis simples         18080\n",
      "terrains d'agrément     17982\n",
      "landes                  15153\n",
      "vignes                   7769\n",
      "futaies résineuses       7244\n",
      "vergers                  4723\n",
      "taillis sous futaie      3019\n",
      "pâtures                  2588\n",
      "bois                     2330\n",
      "peupleraies              2195\n",
      "eaux                     1999\n",
      "futaies feuillues        1012\n",
      "prés plantes              608\n",
      "pacages                   559\n",
      "herbages                  392\n",
      "futaies mixtes            202\n",
      "carrières                 118\n",
      "chemin de fer              64\n",
      "prés d'embouche            49\n",
      "terres plantées            20\n",
      "landes boisées             20\n",
      "oseraies                   11\n",
      "Name: land_type, dtype: int64\n"
     ]
    }
   ],
   "source": [
    "print_verbose(df[\"land_type\"].value_counts(dropna=False))"
   ]
  },
  {
   "cell_type": "code",
   "execution_count": 15,
   "id": "general-honduras",
   "metadata": {
    "ExecuteTime": {
     "end_time": "2021-03-22T11:40:28.626968Z",
     "start_time": "2021-03-22T11:40:28.525644Z"
    }
   },
   "outputs": [],
   "source": [
    "df[\"land_type\"] = df[\"land_type\"].replace({\n",
    "    \"sols\": \"house_or_flat\",\n",
    "    \"terrains a bâtir\": \"land\",\n",
    "})\n",
    "df = df[(df[\"land_type\"].isin([\"house_or_flat\", \"land\"])) |\n",
    "        (df[\"land_type\"].isna())]"
   ]
  },
  {
   "cell_type": "code",
   "execution_count": 16,
   "id": "dimensional-cricket",
   "metadata": {
    "ExecuteTime": {
     "end_time": "2021-03-22T11:40:28.649738Z",
     "start_time": "2021-03-22T11:40:28.627922Z"
    }
   },
   "outputs": [
    {
     "name": "stdout",
     "output_type": "stream",
     "text": [
      "house_or_flat    224598\n",
      "NaN              121917\n",
      "land              20920\n",
      "Name: land_type, dtype: int64\n"
     ]
    }
   ],
   "source": [
    "print_verbose(df[\"land_type\"].value_counts(dropna=False))"
   ]
  },
  {
   "cell_type": "markdown",
   "id": "complicated-heating",
   "metadata": {},
   "source": [
    "## 4. Build type"
   ]
  },
  {
   "cell_type": "markdown",
   "id": "portuguese-effect",
   "metadata": {},
   "source": [
    "* __Houses__ `'property_type' == 'Maison' && 'transaction_type' == 'Vente' && 'land_type' == 'sols'`\n",
    "* __Flats__ `'property_type' == 'Appartement' && 'transaction_type' == 'Vente' && 'land_type' == 'sols' or NA`\n",
    "* __Lands__ `'property_type' is NA && 'land_type' == 'terrains a bâtir'`"
   ]
  },
  {
   "cell_type": "code",
   "execution_count": 17,
   "id": "hearing-hospital",
   "metadata": {
    "ExecuteTime": {
     "end_time": "2021-03-22T11:40:28.821801Z",
     "start_time": "2021-03-22T11:40:28.650729Z"
    }
   },
   "outputs": [],
   "source": [
    "df[\"house_flat_land\"] = \"\"\n",
    "df.loc[(df[\"property_type\"] == \"house\") & \n",
    "       (df[\"transaction_type\"] == \"house_or_flat\") &\n",
    "       (df[\"land_type\"] == \"house_or_flat\"), \"house_flat_land\"] = \"house\"\n",
    "df.loc[(df[\"property_type\"] == \"flat\") &\n",
    "        (df[\"transaction_type\"] == \"house_or_flat\") &\n",
    "        ((df[\"land_type\"] == \"house_or_flat\") | \n",
    "         (df[\"land_type\"].isna())), \"house_flat_land\"] = \"flat\"\n",
    "df.loc[(df[\"property_type\"].isna()) &\n",
    "       (df[\"land_type\"] == \"land\"), \"house_flat_land\"] = \"land\"\n",
    "df = df[df[\"house_flat_land\"].isin([\"house\", \"flat\", \"land\"])]"
   ]
  },
  {
   "cell_type": "code",
   "execution_count": 18,
   "id": "consolidated-stamp",
   "metadata": {
    "ExecuteTime": {
     "end_time": "2021-03-22T11:40:28.841904Z",
     "start_time": "2021-03-22T11:40:28.822934Z"
    }
   },
   "outputs": [
    {
     "name": "stdout",
     "output_type": "stream",
     "text": [
      "flat     143591\n",
      "house    135594\n",
      "land      20131\n",
      "Name: house_flat_land, dtype: int64\n"
     ]
    }
   ],
   "source": [
    "print_verbose(df[\"house_flat_land\"].value_counts())"
   ]
  },
  {
   "cell_type": "markdown",
   "id": "miniature-gather",
   "metadata": {},
   "source": [
    "# Format city"
   ]
  },
  {
   "cell_type": "code",
   "execution_count": 19,
   "id": "historical-unknown",
   "metadata": {
    "ExecuteTime": {
     "end_time": "2021-03-22T11:40:29.361181Z",
     "start_time": "2021-03-22T11:40:28.842838Z"
    },
    "scrolled": true
   },
   "outputs": [],
   "source": [
    "df[\"city\"] = df[\"city\"].str.lower()\n",
    "for old, new in [(\"-\", \" \"), (\"(\", \"\"), (\")\", \"\"), (\"'\", \" \")]:\n",
    "    df[\"city\"] = df[\"city\"].str.replace(old, new, regex=False)\n",
    "df[\"city\"] = df[\"city\"].map(lambda x: x.split()[0] if \"arrondissement\" in x else x)"
   ]
  },
  {
   "cell_type": "markdown",
   "id": "complete-holmes",
   "metadata": {},
   "source": [
    "# Add department_code"
   ]
  },
  {
   "cell_type": "code",
   "execution_count": 20,
   "id": "common-genesis",
   "metadata": {
    "ExecuteTime": {
     "end_time": "2021-03-22T11:40:29.372025Z",
     "start_time": "2021-03-22T11:40:29.362409Z"
    }
   },
   "outputs": [],
   "source": [
    "df[\"departement_code\"] = df[\"zip_code\"] // 1000"
   ]
  },
  {
   "cell_type": "markdown",
   "id": "chicken-surge",
   "metadata": {},
   "source": [
    "# Handle duplicates"
   ]
  },
  {
   "cell_type": "code",
   "execution_count": 21,
   "id": "earlier-humidity",
   "metadata": {
    "ExecuteTime": {
     "end_time": "2021-03-22T11:40:29.428612Z",
     "start_time": "2021-03-22T11:40:29.373137Z"
    }
   },
   "outputs": [
    {
     "data": {
      "text/plain": [
       "(232148, 299316)"
      ]
     },
     "execution_count": 21,
     "metadata": {},
     "output_type": "execute_result"
    }
   ],
   "source": [
    "df[\"id_land\"].nunique(), df.shape[0]"
   ]
  },
  {
   "cell_type": "code",
   "execution_count": 22,
   "id": "incoming-fetish",
   "metadata": {
    "ExecuteTime": {
     "end_time": "2021-03-22T11:40:29.505773Z",
     "start_time": "2021-03-22T11:40:29.430567Z"
    }
   },
   "outputs": [],
   "source": [
    "df.drop_duplicates(subset=[\"id_land\"], keep=False, inplace=True)"
   ]
  },
  {
   "cell_type": "markdown",
   "id": "processed-obligation",
   "metadata": {},
   "source": [
    "# Remove toy columns"
   ]
  },
  {
   "cell_type": "code",
   "execution_count": 23,
   "id": "veterinary-pipeline",
   "metadata": {
    "ExecuteTime": {
     "end_time": "2021-03-22T11:40:29.509235Z",
     "start_time": "2021-03-22T11:40:29.507139Z"
    }
   },
   "outputs": [],
   "source": [
    "COLUMNS_TO_KEEP = [\n",
    "    \"value_euros\",\n",
    "    \"zip_code\",\n",
    "    \"city\",\n",
    "    \"address_number\",\n",
    "    \"built_surface\",\n",
    "    \"land_size\",\n",
    "    \"rooms_number\",\n",
    "    \"longitude\",\n",
    "    \"latitude\",\n",
    "    \"house_flat_land\"\n",
    "]"
   ]
  },
  {
   "cell_type": "code",
   "execution_count": 24,
   "id": "connected-posting",
   "metadata": {
    "ExecuteTime": {
     "end_time": "2021-03-22T11:40:29.523854Z",
     "start_time": "2021-03-22T11:40:29.510336Z"
    }
   },
   "outputs": [],
   "source": [
    "df = df[COLUMNS_TO_KEEP]"
   ]
  },
  {
   "cell_type": "code",
   "execution_count": 25,
   "id": "other-perth",
   "metadata": {
    "ExecuteTime": {
     "end_time": "2021-03-22T11:40:29.527132Z",
     "start_time": "2021-03-22T11:40:29.525285Z"
    }
   },
   "outputs": [],
   "source": [
    "if not os.path.exists(\"full_clean\"):\n",
    "    os.mkdir(\"full_clean\")"
   ]
  },
  {
   "cell_type": "code",
   "execution_count": 26,
   "id": "manual-adventure",
   "metadata": {
    "ExecuteTime": {
     "end_time": "2021-03-22T11:40:30.470987Z",
     "start_time": "2021-03-22T11:40:29.528250Z"
    }
   },
   "outputs": [],
   "source": [
    "df.to_csv(f\"full_clean/full_clean_{YEAR}.csv\", index=False)"
   ]
  }
 ],
 "metadata": {
  "kernelspec": {
   "display_name": "myenv",
   "language": "python",
   "name": "myenv"
  },
  "language_info": {
   "codemirror_mode": {
    "name": "ipython",
    "version": 3
   },
   "file_extension": ".py",
   "mimetype": "text/x-python",
   "name": "python",
   "nbconvert_exporter": "python",
   "pygments_lexer": "ipython3",
   "version": "3.8.5"
  }
 },
 "nbformat": 4,
 "nbformat_minor": 5
}
