{
 "cells": [
  {
   "cell_type": "code",
   "execution_count": 1,
   "id": "chemical-marine",
   "metadata": {
    "ExecuteTime": {
     "end_time": "2021-03-22T12:10:57.376719Z",
     "start_time": "2021-03-22T12:10:57.165051Z"
    }
   },
   "outputs": [],
   "source": [
    "import pandas as pd\n",
    "import numpy as np\n",
    "import os"
   ]
  },
  {
   "cell_type": "code",
   "execution_count": 2,
   "id": "certified-mining",
   "metadata": {
    "ExecuteTime": {
     "end_time": "2021-03-22T12:10:57.379847Z",
     "start_time": "2021-03-22T12:10:57.378086Z"
    }
   },
   "outputs": [],
   "source": [
    "YEAR = \"2020\""
   ]
  },
  {
   "cell_type": "markdown",
   "id": "corrected-power",
   "metadata": {},
   "source": [
    "# Import dataframe"
   ]
  },
  {
   "cell_type": "code",
   "execution_count": 3,
   "id": "flying-times",
   "metadata": {
    "ExecuteTime": {
     "end_time": "2021-03-22T12:10:57.580514Z",
     "start_time": "2021-03-22T12:10:57.381072Z"
    }
   },
   "outputs": [],
   "source": [
    "df = pd.read_csv(f\"full_clean/full_clean_{YEAR}.csv\")\n",
    "df_house = df[df[\"house_flat_land\"] == \"house\"].drop(columns=[\"house_flat_land\"])\n",
    "df_flat = df[df[\"house_flat_land\"] == \"flat\"].drop(columns=[\"house_flat_land\"])\n",
    "df_land = df[df[\"house_flat_land\"] == \"land\"].drop(columns=[\"house_flat_land\"])\n",
    "del df"
   ]
  },
  {
   "cell_type": "markdown",
   "id": "committed-devon",
   "metadata": {},
   "source": [
    "# Merge JDNs"
   ]
  },
  {
   "cell_type": "code",
   "execution_count": 4,
   "id": "academic-detection",
   "metadata": {
    "ExecuteTime": {
     "end_time": "2021-03-22T12:10:58.540300Z",
     "start_time": "2021-03-22T12:10:57.583542Z"
    }
   },
   "outputs": [],
   "source": [
    "jdns = None\n",
    "for jdn in os.listdir(\"jdns\"):\n",
    "    if not jdn.startswith(\"jdn\"):\n",
    "        continue\n",
    "    df_jdn = pd.read_csv(f\"jdns/{jdn}\")\n",
    "    df_jdn.drop(\"index\", axis=1, inplace=True)\n",
    "    df_jdn.drop_duplicates(subset=[\"city\"], keep=\"first\", inplace=True)\n",
    "    if jdns is None:\n",
    "        jdns = df_jdn\n",
    "    else:\n",
    "        jdns = pd.merge(jdns, df_jdn, on=\"city\", how=\"left\")"
   ]
  },
  {
   "cell_type": "code",
   "execution_count": 5,
   "id": "intense-poetry",
   "metadata": {
    "ExecuteTime": {
     "end_time": "2021-03-22T12:10:58.582306Z",
     "start_time": "2021-03-22T12:10:58.541364Z"
    }
   },
   "outputs": [],
   "source": [
    "jdns[\"city\"] = jdns[\"city\"].str.lower()\n",
    "for old, new in [(\"-\", \" \"), (\"(\", \"\"), (\")\", \"\"), (\"'\", \" \")]:\n",
    "    jdns[\"city\"] = jdns[\"city\"].str.replace(old, new, regex=False)"
   ]
  },
  {
   "cell_type": "code",
   "execution_count": 6,
   "id": "mental-mailman",
   "metadata": {
    "ExecuteTime": {
     "end_time": "2021-03-22T12:10:58.587617Z",
     "start_time": "2021-03-22T12:10:58.583233Z"
    }
   },
   "outputs": [],
   "source": [
    "def drop(df_in, df_name):\n",
    "    df = df_in.copy()\n",
    "    df.drop(columns=[\n",
    "        \"own_cars(%)\",\n",
    "        \"part_logement_vacant(%)\"\n",
    "    ], inplace=True)\n",
    "    \n",
    "    if df_name == \"flat\":\n",
    "        df.drop(columns = [\n",
    "            \"land_size\",\n",
    "        ], inplace=True)\n",
    "    elif df_name == \"land\":\n",
    "        df = df.drop(columns=[\n",
    "            \"rooms_number\",\n",
    "            \"built_surface\",\n",
    "            \"address_number\"\n",
    "        ])\n",
    "    \n",
    "    df.dropna(axis=0, inplace=True)\n",
    "        \n",
    "    weird_sales = df[(df[\"value_euros\"] < 200) |\n",
    "                     (df[\"value_euros\"] > 10000000)].index\n",
    "    df.drop(weird_sales, axis=0, inplace=True)\n",
    "    \n",
    "    if df_name in [\"house\", \"flat\"]:\n",
    "        weird_room_number = df[df[\"rooms_number\"] >= 20].index\n",
    "        df.drop(weird_room_number, axis=0, inplace=True)\n",
    "    \n",
    "    if df_name == \"house\":\n",
    "        weird_size_land = df[df[\"land_size\"] >= 10000].index\n",
    "        df.drop(weird_size_land, axis=0, inplace=True)\n",
    "    \n",
    "    return df"
   ]
  },
  {
   "cell_type": "code",
   "execution_count": 7,
   "id": "arctic-aging",
   "metadata": {
    "ExecuteTime": {
     "end_time": "2021-03-22T12:10:58.591502Z",
     "start_time": "2021-03-22T12:10:58.589491Z"
    }
   },
   "outputs": [],
   "source": [
    "def preprocess(df, df_name):\n",
    "    df = pd.merge(df, jdns, on=\"city\", how=\"left\")\n",
    "    df = drop(df, df_name)\n",
    "    df.drop_duplicates(keep=\"first\", inplace=True)\n",
    "    return df"
   ]
  },
  {
   "cell_type": "code",
   "execution_count": 8,
   "id": "trained-gabriel",
   "metadata": {
    "ExecuteTime": {
     "end_time": "2021-03-22T12:10:58.849142Z",
     "start_time": "2021-03-22T12:10:58.592534Z"
    }
   },
   "outputs": [],
   "source": [
    "df_house = preprocess(df_house, \"house\")\n",
    "df_flat = preprocess(df_flat, \"flat\")\n",
    "df_land = preprocess(df_land, \"land\")"
   ]
  },
  {
   "cell_type": "markdown",
   "id": "thick-symphony",
   "metadata": {},
   "source": [
    "# Add distance to school"
   ]
  },
  {
   "cell_type": "code",
   "execution_count": 9,
   "id": "weighted-organization",
   "metadata": {
    "ExecuteTime": {
     "end_time": "2021-03-22T12:10:59.197616Z",
     "start_time": "2021-03-22T12:10:58.850185Z"
    }
   },
   "outputs": [
    {
     "name": "stderr",
     "output_type": "stream",
     "text": [
      "/home/alexandre/.virtualenvs/opencv_cuda/lib/python3.8/site-packages/IPython/core/interactiveshell.py:3146: DtypeWarning: Columns (22,25) have mixed types.Specify dtype option on import or set low_memory=False.\n",
      "  has_raised = await self.run_ast_nodes(code_ast.body, cell_name,\n"
     ]
    }
   ],
   "source": [
    "schools = pd.read_csv(\"school.csv\")\n",
    "\n",
    "schools.columns = map(str.lower, schools.columns)\n",
    "schools = schools[[\"code postal\", \"longitude\", \"latitude\"]]\n",
    "schools.rename(columns = {\"code postal\": \"zip_code\"}, inplace=True)\n",
    "schools.dropna(subset=[\"longitude\", \"latitude\"], axis=0, inplace=True)\n",
    "schools.sort_values(by=\"zip_code\", ascending=True, inplace=True)"
   ]
  },
  {
   "cell_type": "code",
   "execution_count": 10,
   "id": "greatest-borough",
   "metadata": {
    "ExecuteTime": {
     "end_time": "2021-03-22T12:10:59.201782Z",
     "start_time": "2021-03-22T12:10:59.198751Z"
    }
   },
   "outputs": [],
   "source": [
    "def get_distance_lon_lat(lat1, lon1, lat2, lon2):\n",
    "    r = 6371\n",
    "    phi1 = np.radians(lat1)\n",
    "    phi2 = np.radians(lat2)\n",
    "    delta_phi = np.radians(lat2 - lat1)\n",
    "    delta_lambda = np.radians(lon2 - lon1)\n",
    "    a = np.sin(delta_phi / 2)**2 + np.cos(phi1) * np.cos(phi2) *   np.sin(delta_lambda / 2)**2\n",
    "    res = r * (2 * np.arctan2(np.sqrt(a), np.sqrt(1 - a)))\n",
    "    return np.round(res, 2)"
   ]
  },
  {
   "cell_type": "code",
   "execution_count": 11,
   "id": "brazilian-kernel",
   "metadata": {
    "ExecuteTime": {
     "end_time": "2021-03-22T12:10:59.207468Z",
     "start_time": "2021-03-22T12:10:59.202830Z"
    }
   },
   "outputs": [],
   "source": [
    "def get_min_distance(df):\n",
    "    zip_codes1 = df[\"zip_code\"].values\n",
    "    longitudes1 = df[\"longitude\"].values\n",
    "    latitudes1 = df[\"latitude\"].values\n",
    "\n",
    "    zip_codes2 = schools[\"zip_code\"].values\n",
    "    longitudes2 = schools[\"longitude\"].values\n",
    "    latitudes2 = schools[\"latitude\"].values\n",
    "\n",
    "    min_distances = []\n",
    "    for i, (zip_code1, longitude1, latitude1) in enumerate(zip(zip_codes1, longitudes1, latitudes1)):\n",
    "        if i % 1000 == 0:\n",
    "            print(i, df.shape[0])\n",
    "        min_dist = 1e308\n",
    "        min_index = -1\n",
    "        index = np.where(zip_codes2 == zip_code1)[0]\n",
    "\n",
    "        if len(index):\n",
    "            index = index[0]\n",
    "        else:\n",
    "            index = len(zip_codes2)\n",
    "\n",
    "        while index < len(zip_codes2) and zip_codes2[index] == zip_code1:\n",
    "            longitude2, latitude2 = longitudes2[index], latitudes2[index]\n",
    "            d = get_distance_lon_lat(latitude1, longitude1, latitude2, longitude2)\n",
    "            if d < min_dist:\n",
    "                min_dist = d\n",
    "                min_index = index\n",
    "            index += 1\n",
    "        min_distances.append(min_dist)\n",
    "    return min_distances"
   ]
  },
  {
   "cell_type": "code",
   "execution_count": 12,
   "id": "likely-thumbnail",
   "metadata": {
    "ExecuteTime": {
     "end_time": "2021-03-22T12:10:59.214989Z",
     "start_time": "2021-03-22T12:10:59.208578Z"
    }
   },
   "outputs": [
    {
     "data": {
      "text/plain": [
       "(84603, 46510, 12116)"
      ]
     },
     "execution_count": 12,
     "metadata": {},
     "output_type": "execute_result"
    }
   ],
   "source": [
    "df_house.shape[0], df_flat.shape[0], df_land.shape[0]"
   ]
  },
  {
   "cell_type": "code",
   "execution_count": 13,
   "id": "aging-wilson",
   "metadata": {
    "ExecuteTime": {
     "end_time": "2021-03-22T12:12:40.878311Z",
     "start_time": "2021-03-22T12:10:59.216050Z"
    }
   },
   "outputs": [
    {
     "name": "stdout",
     "output_type": "stream",
     "text": [
      "0 84603\n",
      "1000 84603\n",
      "2000 84603\n",
      "3000 84603\n",
      "4000 84603\n",
      "5000 84603\n",
      "6000 84603\n",
      "7000 84603\n",
      "8000 84603\n",
      "9000 84603\n",
      "10000 84603\n",
      "11000 84603\n",
      "12000 84603\n",
      "13000 84603\n",
      "14000 84603\n",
      "15000 84603\n",
      "16000 84603\n",
      "17000 84603\n",
      "18000 84603\n",
      "19000 84603\n",
      "20000 84603\n",
      "21000 84603\n",
      "22000 84603\n",
      "23000 84603\n",
      "24000 84603\n",
      "25000 84603\n",
      "26000 84603\n",
      "27000 84603\n",
      "28000 84603\n",
      "29000 84603\n",
      "30000 84603\n",
      "31000 84603\n",
      "32000 84603\n",
      "33000 84603\n",
      "34000 84603\n",
      "35000 84603\n",
      "36000 84603\n",
      "37000 84603\n",
      "38000 84603\n",
      "39000 84603\n",
      "40000 84603\n",
      "41000 84603\n",
      "42000 84603\n",
      "43000 84603\n",
      "44000 84603\n",
      "45000 84603\n",
      "46000 84603\n",
      "47000 84603\n",
      "48000 84603\n",
      "49000 84603\n",
      "50000 84603\n",
      "51000 84603\n",
      "52000 84603\n",
      "53000 84603\n",
      "54000 84603\n",
      "55000 84603\n",
      "56000 84603\n",
      "57000 84603\n",
      "58000 84603\n",
      "59000 84603\n",
      "60000 84603\n",
      "61000 84603\n",
      "62000 84603\n",
      "63000 84603\n",
      "64000 84603\n",
      "65000 84603\n",
      "66000 84603\n",
      "67000 84603\n",
      "68000 84603\n",
      "69000 84603\n",
      "70000 84603\n",
      "71000 84603\n",
      "72000 84603\n",
      "73000 84603\n",
      "74000 84603\n",
      "75000 84603\n",
      "76000 84603\n",
      "77000 84603\n",
      "78000 84603\n",
      "79000 84603\n",
      "80000 84603\n",
      "81000 84603\n",
      "82000 84603\n",
      "83000 84603\n",
      "84000 84603\n",
      "0 46510\n",
      "1000 46510\n",
      "2000 46510\n",
      "3000 46510\n",
      "4000 46510\n",
      "5000 46510\n",
      "6000 46510\n",
      "7000 46510\n",
      "8000 46510\n",
      "9000 46510\n",
      "10000 46510\n",
      "11000 46510\n",
      "12000 46510\n",
      "13000 46510\n",
      "14000 46510\n",
      "15000 46510\n",
      "16000 46510\n",
      "17000 46510\n",
      "18000 46510\n",
      "19000 46510\n",
      "20000 46510\n",
      "21000 46510\n",
      "22000 46510\n",
      "23000 46510\n",
      "24000 46510\n",
      "25000 46510\n",
      "26000 46510\n",
      "27000 46510\n",
      "28000 46510\n",
      "29000 46510\n",
      "30000 46510\n",
      "31000 46510\n",
      "32000 46510\n",
      "33000 46510\n",
      "34000 46510\n",
      "35000 46510\n",
      "36000 46510\n",
      "37000 46510\n",
      "38000 46510\n",
      "39000 46510\n",
      "40000 46510\n",
      "41000 46510\n",
      "42000 46510\n",
      "43000 46510\n",
      "44000 46510\n",
      "45000 46510\n",
      "46000 46510\n",
      "0 12116\n",
      "1000 12116\n",
      "2000 12116\n",
      "3000 12116\n",
      "4000 12116\n",
      "5000 12116\n",
      "6000 12116\n",
      "7000 12116\n",
      "8000 12116\n",
      "9000 12116\n",
      "10000 12116\n",
      "11000 12116\n",
      "12000 12116\n"
     ]
    }
   ],
   "source": [
    "df_house[\"dist_to_school\"] = get_min_distance(df_house)\n",
    "df_flat[\"dist_to_school\"] = get_min_distance(df_flat)\n",
    "df_land[\"dist_to_school\"] = get_min_distance(df_land) "
   ]
  },
  {
   "cell_type": "code",
   "execution_count": 14,
   "id": "declared-observation",
   "metadata": {
    "ExecuteTime": {
     "end_time": "2021-03-22T12:12:40.881692Z",
     "start_time": "2021-03-22T12:12:40.879357Z"
    }
   },
   "outputs": [],
   "source": [
    "def drop_infinite_distance(df):\n",
    "    indices = df[df[\"dist_to_school\"] == 1e308].index\n",
    "    df.drop(indices, axis=0, inplace=True)"
   ]
  },
  {
   "cell_type": "code",
   "execution_count": 15,
   "id": "nonprofit-mobility",
   "metadata": {
    "ExecuteTime": {
     "end_time": "2021-03-22T12:12:40.913059Z",
     "start_time": "2021-03-22T12:12:40.882925Z"
    }
   },
   "outputs": [],
   "source": [
    "drop_infinite_distance(df_house)\n",
    "drop_infinite_distance(df_flat)\n",
    "drop_infinite_distance(df_land)"
   ]
  },
  {
   "cell_type": "markdown",
   "id": "entitled-scenario",
   "metadata": {},
   "source": [
    "# Export"
   ]
  },
  {
   "cell_type": "code",
   "execution_count": 16,
   "id": "integral-westminster",
   "metadata": {
    "ExecuteTime": {
     "end_time": "2021-03-22T12:12:40.916091Z",
     "start_time": "2021-03-22T12:12:40.914144Z"
    }
   },
   "outputs": [],
   "source": [
    "if not os.path.exists(\"real_estate\"):\n",
    "    os.mkdir(\"real_estate\")"
   ]
  },
  {
   "cell_type": "code",
   "execution_count": 17,
   "id": "every-spare",
   "metadata": {
    "ExecuteTime": {
     "end_time": "2021-03-22T12:12:42.939355Z",
     "start_time": "2021-03-22T12:12:40.917039Z"
    }
   },
   "outputs": [],
   "source": [
    "df_house.to_csv(f\"real_estate/real_estate_house{YEAR}.csv\", index=False)\n",
    "df_flat.to_csv(f\"real_estate/real_estate_flat{YEAR}.csv\", index=False)\n",
    "df_land.to_csv(f\"real_estate/real_estate_land{YEAR}.csv\", index=False)"
   ]
  }
 ],
 "metadata": {
  "kernelspec": {
   "display_name": "myenv",
   "language": "python",
   "name": "myenv"
  },
  "language_info": {
   "codemirror_mode": {
    "name": "ipython",
    "version": 3
   },
   "file_extension": ".py",
   "mimetype": "text/x-python",
   "name": "python",
   "nbconvert_exporter": "python",
   "pygments_lexer": "ipython3",
   "version": "3.8.5"
  }
 },
 "nbformat": 4,
 "nbformat_minor": 5
}
